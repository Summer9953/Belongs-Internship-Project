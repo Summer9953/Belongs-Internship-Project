{
 "cells": [
  {
   "cell_type": "code",
   "execution_count": 26,
   "metadata": {},
   "outputs": [],
   "source": [
    "import pandas as pd\n",
    "import json\n",
    "\n",
    "# Load JSON data\n",
    "with open('masterassignments.json') as f:\n",
    "    data = json.load(f)\n",
    "\n",
    "# Convert JSON to DataFrame\n",
    "df = pd.json_normalize(data)\n",
    "\n",
    "# Save DataFrame to CSV\n",
    "df.to_csv('masterassignments.csv', index=False)\n"
   ]
  },
  {
   "cell_type": "markdown",
   "metadata": {},
   "source": [
    "import pandas as pd\n",
    "import json\n",
    "\n",
    "# Load JSON data\n",
    "with open('masterassignments.json') as f:\n",
    "    data = json.load(f)\n",
    "\n",
    "# Convert JSON to DataFrame\n",
    "df = pd.json_normalize(data)\n",
    "\n",
    "# Save DataFrame to CSV\n",
    "df.to_csv('masterassignments.csv', index=False)"
   ]
  }
 ],
 "metadata": {
  "kernelspec": {
   "display_name": "Python 3",
   "language": "python",
   "name": "python3"
  },
  "language_info": {
   "codemirror_mode": {
    "name": "ipython",
    "version": 3
   },
   "file_extension": ".py",
   "mimetype": "text/x-python",
   "name": "python",
   "nbconvert_exporter": "python",
   "pygments_lexer": "ipython3",
   "version": "3.12.0"
  }
 },
 "nbformat": 4,
 "nbformat_minor": 2
}
